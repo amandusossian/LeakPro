{
 "cells": [
  {
   "cell_type": "markdown",
   "metadata": {},
   "source": [
    "Prepare the dataset and train a model on the data."
   ]
  },
  {
   "cell_type": "code",
   "execution_count": 16,
   "metadata": {},
   "outputs": [
    {
     "ename": "ImportError",
     "evalue": "cannot import name 'get_adult_dataloaders' from 'data_processing' (/home/johan/project/LeakPro/examples/mia/tabular_mia/data_processing.py)",
     "output_type": "error",
     "traceback": [
      "\u001b[0;31m---------------------------------------------------------------------------\u001b[0m",
      "\u001b[0;31mImportError\u001b[0m                               Traceback (most recent call last)",
      "Cell \u001b[0;32mIn[16], line 5\u001b[0m\n\u001b[1;32m      2\u001b[0m \u001b[38;5;28;01mimport\u001b[39;00m \u001b[38;5;21;01msys\u001b[39;00m\n\u001b[1;32m      3\u001b[0m sys\u001b[38;5;241m.\u001b[39mpath\u001b[38;5;241m.\u001b[39mappend(\u001b[38;5;124m\"\u001b[39m\u001b[38;5;124m../../..\u001b[39m\u001b[38;5;124m\"\u001b[39m)\n\u001b[0;32m----> 5\u001b[0m \u001b[38;5;28;01mfrom\u001b[39;00m \u001b[38;5;21;01mdata_processing\u001b[39;00m \u001b[38;5;28;01mimport\u001b[39;00m get_adult_dataset, get_adult_dataloaders\n\u001b[1;32m      6\u001b[0m \u001b[38;5;28;01mfrom\u001b[39;00m \u001b[38;5;21;01mmodel\u001b[39;00m \u001b[38;5;28;01mimport\u001b[39;00m AdultNet, create_trained_model_and_metadata\n\u001b[1;32m      8\u001b[0m dataset \u001b[38;5;241m=\u001b[39m get_adult_dataset()\n",
      "\u001b[0;31mImportError\u001b[0m: cannot import name 'get_adult_dataloaders' from 'data_processing' (/home/johan/project/LeakPro/examples/mia/tabular_mia/data_processing.py)"
     ]
    }
   ],
   "source": [
    "import os\n",
    "import sys\n",
    "sys.path.append(\"../../..\")\n",
    "\n",
    "from data_processing import get_adult_dataset, get_adult_dataloaders\n",
    "from model import AdultNet, create_trained_model_and_metadata\n",
    "\n",
    "dataset = get_adult_dataset()\n",
    "train_loader, test_loader, metadata = get_adult_dataloaders(dataset, train_fraction=0.3, test_fraction=0.3)\n",
    "\n",
    "if not os.path.exists(\"target\"):\n",
    "    os.makedirs(\"target\")\n",
    "model = AdultNet(input_size=dataset.input_size, hidden_size=64, output_size=dataset.output_size)\n",
    "create_trained_model_and_metadata(model, train_loader, test_loader, epochs=10, metadata=metadata)\n"
   ]
  },
  {
   "cell_type": "code",
   "execution_count": null,
   "metadata": {},
   "outputs": [],
   "source": []
  }
 ],
 "metadata": {
  "kernelspec": {
   "display_name": "leakpro_test",
   "language": "python",
   "name": "python3"
  },
  "language_info": {
   "codemirror_mode": {
    "name": "ipython",
    "version": 3
   },
   "file_extension": ".py",
   "mimetype": "text/x-python",
   "name": "python",
   "nbconvert_exporter": "python",
   "pygments_lexer": "ipython3",
   "version": "3.12.2"
  }
 },
 "nbformat": 4,
 "nbformat_minor": 2
}
