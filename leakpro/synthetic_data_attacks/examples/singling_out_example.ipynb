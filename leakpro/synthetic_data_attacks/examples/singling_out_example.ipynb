{
 "cells": [
  {
   "cell_type": "markdown",
   "id": "3ddac758-3a3d-4a93-877d-cca822bd426f",
   "metadata": {},
   "source": [
    "# Singling out-Risk examples"
   ]
  },
  {
   "cell_type": "code",
   "execution_count": 1,
   "id": "be83b006-7679-4637-b39a-86b3cbec08da",
   "metadata": {},
   "outputs": [],
   "source": [
    "import os\n",
    "import sys\n",
    "\n",
    "#Append to PYTHONPATH\n",
    "path = os.path.dirname(os.path.dirname(os.path.dirname(os.getcwd())))\n",
    "sys.path.append(path)\n",
    "\n",
    "from leakpro.synthetic_data_attacks.anonymeter.evaluators.singling_out_evaluator import SinglingOutEvaluator\n",
    "from leakpro.tests.tests_synthetic_data_attacks.anonymeter_tests.fixtures import get_adult\n",
    "\n",
    "#Get ori and syn\n",
    "ori = get_adult(return_ori=True, n_samples=100)\n",
    "syn = get_adult(return_ori=False, n_samples=100)"
   ]
  },
  {
   "cell_type": "markdown",
   "id": "9907ecb0-e008-4c19-a4f2-332d810ea791",
   "metadata": {},
   "source": [
    "## Basic example\n",
    "\n",
    "A very basic example requires an original (`ori`) and a synthetic (`syn`) pandas dataframes.\n",
    "\n",
    "Afterwards, instantiate the evaluator and run `evaluate` and `print_results` methods.\n",
    "\n",
    "**Note:** adjust `n_attacks` as needed, default value is `n_attacks=2_000`"
   ]
  },
  {
   "cell_type": "code",
   "execution_count": 2,
   "id": "476913c0-8442-44ab-8a07-1c8344c668fd",
   "metadata": {},
   "outputs": [
    {
     "name": "stdout",
     "output_type": "stream",
     "text": [
      "Singling-out example with n_cols = 1\n",
      "Main singling out attack generated only 50 singling out queries out of the requested 100. This can probably lead to an underestimate of the singling-out risk.\n",
      "Success rate of main attack (and nr and total): 19.18%, 18, 100\n",
      "Success rate of naive attack (and nr and total): 5.70%, 4, 100\n",
      "Residual rate: 13.48%\n",
      "Singling-out queries: [\"education == '12th'\", 'age == 60', 'capital_gain == 15024']\n"
     ]
    }
   ],
   "source": [
    "print(\"Singling-out example with n_cols = 1\")\n",
    "evaluator = SinglingOutEvaluator(\n",
    "    ori = ori,\n",
    "    syn = syn,\n",
    "    n_cols = 1,   \n",
    "    n_attacks = 100\n",
    ")\n",
    "results = evaluator.evaluate()\n",
    "results.print_results()\n",
    "print(\"Singling-out queries:\", evaluator.main_queries.queries[0:3])"
   ]
  },
  {
   "cell_type": "code",
   "execution_count": 3,
   "id": "5d90748c-d057-492b-8d74-8d7a642eb471",
   "metadata": {},
   "outputs": [
    {
     "name": "stdout",
     "output_type": "stream",
     "text": [
      "Singling-out example with n_cols = 3\n",
      "Success rate of main attack (and nr and total): 31.70%, 31, 100\n",
      "Success rate of naive attack (and nr and total): 14.37%, 13, 100\n",
      "Residual rate: 17.33%\n",
      "Singling-out queries: [\"education_num <= 7 & occupation == 'Sales' & marital == 'Never-married'\", \"relationship == 'Other-relative' & type_employer == 'Private' & age <= 28\", \"marital == 'Married-civ-spouse' & hr_per_week >= 55 & age <= 33\"]\n"
     ]
    }
   ],
   "source": [
    "print(\"Singling-out example with n_cols = 3\")\n",
    "evaluator = SinglingOutEvaluator(\n",
    "    ori = ori,\n",
    "    syn = syn,\n",
    "    n_cols = 3,   \n",
    "    n_attacks = 100\n",
    ")\n",
    "results = evaluator.evaluate()\n",
    "results.print_results()\n",
    "print(\"Singling-out queries:\", evaluator.main_queries.queries[0:3])"
   ]
  }
 ],
 "metadata": {
  "kernelspec": {
   "display_name": "Python 3 (ipykernel)",
   "language": "python",
   "name": "python3"
  },
  "language_info": {
   "codemirror_mode": {
    "name": "ipython",
    "version": 3
   },
   "file_extension": ".py",
   "mimetype": "text/x-python",
   "name": "python",
   "nbconvert_exporter": "python",
   "pygments_lexer": "ipython3",
   "version": "3.11.7"
  }
 },
 "nbformat": 4,
 "nbformat_minor": 5
}
