{
 "cells": [
  {
   "cell_type": "markdown",
   "metadata": {},
   "source": [
    "Prepare the dataset and train a model on the data."
   ]
  },
  {
   "cell_type": "code",
   "execution_count": 1,
   "metadata": {},
   "outputs": [
    {
     "name": "stderr",
     "output_type": "stream",
     "text": [
      "/home/amandus/miniconda3/envs/leakpro/lib/python3.9/site-packages/tqdm/auto.py:21: TqdmWarning: IProgress not found. Please update jupyter and ipywidgets. See https://ipywidgets.readthedocs.io/en/stable/user_install.html\n",
      "  from .autonotebook import tqdm as notebook_tqdm\n"
     ]
    }
   ],
   "source": [
    "import os\n",
    "import sys\n",
    "project_root = os.path.abspath(os.path.join(os.getcwd(), \"../../..\"))\n",
    "sys.path.append(project_root)\n",
    "from examples.mia.text_mia.utils.tabds_data_preparation import *\n",
    "from examples.mia.text_mia.utils.tabds_model_preparation import *"
   ]
  },
  {
   "cell_type": "code",
   "execution_count": 2,
   "metadata": {},
   "outputs": [
    {
     "name": "stdout",
     "output_type": "stream",
     "text": [
      "/home/amandus/msc-code/LeakPro/examples/mia/text_mia/tab_data/\n"
     ]
    }
   ],
   "source": [
    "print(os.path.join(os.getcwd(), \"tab_data/\"))"
   ]
  },
  {
   "cell_type": "code",
   "execution_count": 3,
   "metadata": {},
   "outputs": [
    {
     "name": "stdout",
     "output_type": "stream",
     "text": [
      "Loading local dataset.\n",
      "Local dataset succsesfully loaded.\n"
     ]
    }
   ],
   "source": [
    "path = os.path.join(os.getcwd(), \"tab_data/\")\n",
    "dataset = preprocess_tab_dataset(path)"
   ]
  },
  {
   "cell_type": "code",
   "execution_count": 3,
   "metadata": {},
   "outputs": [],
   "source": [
    "n_classes = 3 # check a nice way to set this. Maybe it's better to do with yaml file\n",
    "# Maybe not needed if loading models tho, if this is parameters used to construct model. \n",
    "train_loader, test_loader = get_tab_dataloaders(dataset, train_fraction=0.1, test_fraction=0.1)\n"
   ]
  },
  {
   "cell_type": "code",
   "execution_count": 4,
   "metadata": {},
   "outputs": [
    {
     "name": "stdout",
     "output_type": "stream",
     "text": [
      "Training\n",
      "Epoch 1 started\n"
     ]
    },
    {
     "name": "stderr",
     "output_type": "stream",
     "text": [
      "100%|██████████| 20/20 [00:13<00:00,  1.51it/s]\n"
     ]
    },
    {
     "name": "stdout",
     "output_type": "stream",
     "text": [
      "Evaluating\n"
     ]
    },
    {
     "name": "stderr",
     "output_type": "stream",
     "text": [
      "100%|██████████| 20/20 [00:03<00:00,  6.59it/s]\n"
     ]
    }
   ],
   "source": [
    "n_classes = 3 # check a nice way to set this. Maybe it's better to do with yaml file\n",
    "# Maybe not needed if loading models tho, if this is parameters used to construct model. \n",
    "train_loader, test_loader = get_tab_dataloaders(dataset, train_fraction=0.1, test_fraction=0.1)\n",
    "\n",
    "# Train the model\n",
    "if not os.path.exists(\"target\"):\n",
    "    os.makedirs(\"target\")\n",
    "model = TABBERT(pt_model= \"allenai/longformer-base-4096\", num_classes=n_classes)\n",
    "train_acc, train_loss, test_acc, test_loss = create_trained_model_and_metadata(model, \n",
    "                                                                               train_loader, \n",
    "                                                                               test_loader, \n",
    "                                                                               epochs=1)"
   ]
  },
  {
   "cell_type": "markdown",
   "metadata": {},
   "source": [
    "Create LeakPro objects and run attack"
   ]
  },
  {
   "cell_type": "code",
   "execution_count": 6,
   "metadata": {},
   "outputs": [
    {
     "name": "stderr",
     "output_type": "stream",
     "text": [
      "2024-11-07 12:14:23,186 INFO     Target model blueprint created from TABBERT in utils/tabds_model_preparation.py.\n",
      "2024-11-07 12:14:23,189 INFO     Loaded target model metadata from ./target/model_metadata.pkl\n"
     ]
    },
    {
     "name": "stderr",
     "output_type": "stream",
     "text": [
      "2024-11-07 12:14:25,475 INFO     Loaded target model from ./target\n",
      "2024-11-07 12:14:46,123 INFO     Loaded population dataset from tab_data/tab_train_200_dataset.pkl\n",
      "2024-11-07 12:14:46,125 INFO     Loaded population dataset from tab_data/tab_train_200_dataset.pkl\n",
      "2024-11-07 12:14:46,127 INFO     Configuring RMIA attack\n",
      "2024-11-07 12:14:46,128 INFO     Added attack: rmia\n",
      "2024-11-07 12:14:46,129 INFO     Preparing attack: rmia\n",
      "2024-11-07 12:14:46,129 INFO     Preparing shadow models for RMIA attack\n",
      "2024-11-07 12:14:46,130 INFO     Preparing attack data for training the RMIA attack\n",
      "2024-11-07 12:14:46,132 INFO     Check for 3 shadow models (dataset: 203 points)\n",
      "2024-11-07 12:14:46,135 INFO     Number of existing models exceeds or equals the number of models to create\n",
      "2024-11-07 12:14:46,136 INFO     Loading shadow model 0\n"
     ]
    },
    {
     "name": "stdout",
     "output_type": "stream",
     "text": [
      "[ 32 131  33  23 196  53 164 144 165 139 124 115 101  83 167 175 192 152\n",
      " 148 190  88  44  49 187 151 191  48  30 137 188  54 132 122 104  65  61\n",
      "  43 182 113 123 145   9  75  82  86 147 107 157 114  69  96 120 171  66\n",
      "  52 134  31 143 111 184   6 170  68 138  13 168  51   8  89 146  84 110\n",
      " 155 100  10 180  90 130  79  94  78  40  59 163 140   4  12  81  47  18\n",
      "  50 109  19 194  35 153 186  14  57  20  26 174  76 102 202  99   3  71\n",
      " 162  73 199  21 133  46   7 156 185  62 177 198 197  98 178 106 183  39\n",
      " 149  56  15 126 195  97  63 117  36 150 125 201  34  92 135  42  38  91\n",
      "  45   1  16 181 169  70 141 176  74 159 112  77 200 154  60 142 121  64\n",
      "  93 193 105  41 160  55  25  22 108 119   0  17 173  85 158  58   5 129\n",
      "  80  24  95  67 136   2  87  29 116  27 172 118  11 166  28 103 128 161\n",
      "  72 127 179 189  37]\n"
     ]
    },
    {
     "name": "stderr",
     "output_type": "stream",
     "text": [
      "2024-11-07 12:14:48,192 INFO     Loaded model from ./leakpro_output/attack_objects/shadow_model/shadow_model_0.pkl\n",
      "2024-11-07 12:14:48,195 INFO     Loading shadow model 2\n",
      "2024-11-07 12:14:50,183 INFO     Loaded model from ./leakpro_output/attack_objects/shadow_model/shadow_model_2.pkl\n",
      "2024-11-07 12:14:50,185 INFO     Loading shadow model 1\n",
      "2024-11-07 12:14:52,383 INFO     Loaded model from ./leakpro_output/attack_objects/shadow_model/shadow_model_1.pkl\n",
      "2024-11-07 12:14:52,385 INFO     Running attack: rmia\n",
      "2024-11-07 12:14:59,707 INFO     Running RMIA online attack\n",
      "2024-11-07 12:14:59,709 INFO     Loading metadata 0\n",
      "2024-11-07 12:14:59,711 INFO     Loading metadata 2\n",
      "2024-11-07 12:14:59,714 INFO     Loading metadata 1\n",
      "2024-11-07 12:15:35,269 INFO     Number of points in the audit dataset that are used for online attack: 18\n",
      "                                                                              \r"
     ]
    },
    {
     "ename": "IndexError",
     "evalue": "shape mismatch: indexing arrays could not be broadcast together with shapes (18,) (18,4096) ",
     "output_type": "error",
     "traceback": [
      "\u001b[0;31m---------------------------------------------------------------------------\u001b[0m",
      "\u001b[0;31mIndexError\u001b[0m                                Traceback (most recent call last)",
      "\u001b[1;32m/home/amandus/msc-code/LeakPro/examples/mia/text_mia/main.ipynb Cell 8\u001b[0m line \u001b[0;36m1\n\u001b[1;32m      <a href='vscode-notebook-cell://ssh-remote%2B172.25.17.197/home/amandus/msc-code/LeakPro/examples/mia/text_mia/main.ipynb#W6sdnNjb2RlLXJlbW90ZQ%3D%3D?line=8'>9</a>\u001b[0m leakpro \u001b[39m=\u001b[39m LeakPro(TABInputHandler, config_path)\n\u001b[1;32m     <a href='vscode-notebook-cell://ssh-remote%2B172.25.17.197/home/amandus/msc-code/LeakPro/examples/mia/text_mia/main.ipynb#W6sdnNjb2RlLXJlbW90ZQ%3D%3D?line=10'>11</a>\u001b[0m \u001b[39m# Run the audit \u001b[39;00m\n\u001b[0;32m---> <a href='vscode-notebook-cell://ssh-remote%2B172.25.17.197/home/amandus/msc-code/LeakPro/examples/mia/text_mia/main.ipynb#W6sdnNjb2RlLXJlbW90ZQ%3D%3D?line=11'>12</a>\u001b[0m leakpro\u001b[39m.\u001b[39;49mrun_audit()\n",
      "File \u001b[0;32m~/msc-code/LeakPro/leakpro/leakpro.py:131\u001b[0m, in \u001b[0;36mLeakPro.run_audit\u001b[0;34m(self)\u001b[0m\n\u001b[1;32m    129\u001b[0m \u001b[39mdef\u001b[39;00m \u001b[39mrun_audit\u001b[39m(\u001b[39mself\u001b[39m:Self) \u001b[39m-\u001b[39m\u001b[39m>\u001b[39m \u001b[39mNone\u001b[39;00m:\n\u001b[1;32m    130\u001b[0m \u001b[39m    \u001b[39m\u001b[39m\"\"\"Run the audit.\"\"\"\u001b[39;00m\n\u001b[0;32m--> 131\u001b[0m     audit_results \u001b[39m=\u001b[39m \u001b[39mself\u001b[39;49m\u001b[39m.\u001b[39;49mattack_scheduler\u001b[39m.\u001b[39;49mrun_attacks()\n\u001b[1;32m    133\u001b[0m     \u001b[39mfor\u001b[39;00m attack_name \u001b[39min\u001b[39;00m audit_results:\n\u001b[1;32m    134\u001b[0m         logger\u001b[39m.\u001b[39minfo(\u001b[39mf\u001b[39m\u001b[39m\"\u001b[39m\u001b[39mPreparing results for attack: \u001b[39m\u001b[39m{\u001b[39;00mattack_name\u001b[39m}\u001b[39;00m\u001b[39m\"\u001b[39m)\n",
      "File \u001b[0;32m~/msc-code/LeakPro/leakpro/attacks/attack_scheduler.py:63\u001b[0m, in \u001b[0;36mAttackScheduler.run_attacks\u001b[0;34m(self)\u001b[0m\n\u001b[1;32m     59\u001b[0m attack\u001b[39m.\u001b[39mprepare_attack()\n\u001b[1;32m     61\u001b[0m logger\u001b[39m.\u001b[39minfo(\u001b[39mf\u001b[39m\u001b[39m\"\u001b[39m\u001b[39mRunning attack: \u001b[39m\u001b[39m{\u001b[39;00mattack_type\u001b[39m}\u001b[39;00m\u001b[39m\"\u001b[39m)\n\u001b[0;32m---> 63\u001b[0m result \u001b[39m=\u001b[39m attack\u001b[39m.\u001b[39;49mrun_attack()\n\u001b[1;32m     64\u001b[0m results[attack_type] \u001b[39m=\u001b[39m {\u001b[39m\"\u001b[39m\u001b[39mattack_object\u001b[39m\u001b[39m\"\u001b[39m: attack, \u001b[39m\"\u001b[39m\u001b[39mresult_object\u001b[39m\u001b[39m\"\u001b[39m: result}\n\u001b[1;32m     66\u001b[0m logger\u001b[39m.\u001b[39minfo(\u001b[39mf\u001b[39m\u001b[39m\"\u001b[39m\u001b[39mFinished attack: \u001b[39m\u001b[39m{\u001b[39;00mattack_type\u001b[39m}\u001b[39;00m\u001b[39m\"\u001b[39m)\n",
      "File \u001b[0;32m~/msc-code/LeakPro/leakpro/attacks/mia_attacks/rmia.py:294\u001b[0m, in \u001b[0;36mAttackRMIA.run_attack\u001b[0;34m(self)\u001b[0m\n\u001b[1;32m    292\u001b[0m \u001b[39m# perform the attack\u001b[39;00m\n\u001b[1;32m    293\u001b[0m \u001b[39mif\u001b[39;00m \u001b[39mself\u001b[39m\u001b[39m.\u001b[39monline \u001b[39mis\u001b[39;00m \u001b[39mTrue\u001b[39;00m:\n\u001b[0;32m--> 294\u001b[0m     \u001b[39mself\u001b[39;49m\u001b[39m.\u001b[39;49m_online_attack()\n\u001b[1;32m    295\u001b[0m \u001b[39melse\u001b[39;00m:\n\u001b[1;32m    296\u001b[0m     \u001b[39mself\u001b[39m\u001b[39m.\u001b[39m_offline_attack()\n",
      "File \u001b[0;32m~/msc-code/LeakPro/leakpro/attacks/mia_attacks/rmia.py:187\u001b[0m, in \u001b[0;36mAttackRMIA._online_attack\u001b[0;34m(self)\u001b[0m\n\u001b[1;32m    185\u001b[0m \u001b[39m# collect the softmax output of the correct class\u001b[39;00m\n\u001b[1;32m    186\u001b[0m n_audit_points \u001b[39m=\u001b[39m \u001b[39mlen\u001b[39m(audit_data_indices)\n\u001b[0;32m--> 187\u001b[0m p_x_given_target_model \u001b[39m=\u001b[39m softmax_logits(logits_theta, \u001b[39mself\u001b[39;49m\u001b[39m.\u001b[39;49mtemperature)[np\u001b[39m.\u001b[39;49marange(n_audit_points),ground_truth_indices]\n\u001b[1;32m    189\u001b[0m \u001b[39m# run points through shadow models, colelct logits and compute p(x)\u001b[39;00m\n\u001b[1;32m    190\u001b[0m logits_shadow_models \u001b[39m=\u001b[39m \u001b[39mself\u001b[39m\u001b[39m.\u001b[39msignal(\u001b[39mself\u001b[39m\u001b[39m.\u001b[39mshadow_models, \u001b[39mself\u001b[39m\u001b[39m.\u001b[39mhandler, audit_data_indices)\n",
      "\u001b[0;31mIndexError\u001b[0m: shape mismatch: indexing arrays could not be broadcast together with shapes (18,) (18,4096) "
     ]
    }
   ],
   "source": [
    "from tabds_handler import TABInputHandler\n",
    "\n",
    "from leakpro import LeakPro\n",
    "\n",
    "# Read the config file\n",
    "config_path = \"audit.yaml\"\n",
    "\n",
    "# Prepare leakpro object\n",
    "leakpro = LeakPro(TABInputHandler, config_path)\n",
    "\n",
    "# Run the audit \n",
    "leakpro.run_audit()"
   ]
  }
 ],
 "metadata": {
  "kernelspec": {
   "display_name": "leakpro",
   "language": "python",
   "name": "python3"
  },
  "language_info": {
   "codemirror_mode": {
    "name": "ipython",
    "version": 3
   },
   "file_extension": ".py",
   "mimetype": "text/x-python",
   "name": "python",
   "nbconvert_exporter": "python",
   "pygments_lexer": "ipython3",
   "version": "3.9.20"
  }
 },
 "nbformat": 4,
 "nbformat_minor": 2
}
