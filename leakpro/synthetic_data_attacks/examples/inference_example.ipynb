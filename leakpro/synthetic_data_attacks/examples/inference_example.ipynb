{
 "cells": [
  {
   "cell_type": "markdown",
   "id": "3ddac758-3a3d-4a93-877d-cca822bd426f",
   "metadata": {},
   "source": [
    "# Inference Risk examples"
   ]
  },
  {
   "cell_type": "code",
   "execution_count": 1,
   "id": "be83b006-7679-4637-b39a-86b3cbec08da",
   "metadata": {},
   "outputs": [],
   "source": [
    "import os\n",
    "import sys\n",
    "\n",
    "#Append to PYTHONPATH\n",
    "path = os.path.dirname(os.path.dirname(os.path.dirname(os.getcwd())))\n",
    "sys.path.append(path)\n",
    "\n",
    "from leakpro.synthetic_data_attacks.anonymeter.evaluators.inference_evaluator import InferenceEvaluator\n",
    "from leakpro.tests.tests_synthetic_data_attacks.anonymeter_tests.fixtures import get_adult\n",
    "\n",
    "#Get ori and syn\n",
    "ori = get_adult(return_ori=True, n_samples=100)\n",
    "syn = get_adult(return_ori=False, n_samples=100)"
   ]
  },
  {
   "cell_type": "markdown",
   "id": "9907ecb0-e008-4c19-a4f2-332d810ea791",
   "metadata": {},
   "source": [
    "## Basic example\n",
    "\n",
    "A very basic example requires an original (`ori`) and a synthetic (`syn`) pandas dataframes.\n",
    "\n",
    "Afterwards, instantiate the evaluator and run `evaluate` and `print_results` methods."
   ]
  },
  {
   "cell_type": "code",
   "execution_count": 2,
   "id": "476913c0-8442-44ab-8a07-1c8344c668fd",
   "metadata": {},
   "outputs": [
    {
     "name": "stdout",
     "output_type": "stream",
     "text": [
      "Success rate of main attack (and nr and total): 17.26%, 16, 100\n",
      "Success rate of naive attack (and nr and total): 21.11%, 20, 100\n",
      "Residual rate: 0.00%\n"
     ]
    }
   ],
   "source": [
    "evaluator = InferenceEvaluator(\n",
    "    ori = ori,\n",
    "    syn = syn,\n",
    "    aux_cols = [\"type_employer\", \"capital_loss\", \"hr_per_week\", \"age\"],\n",
    "    secret = \"education\",    \n",
    "    n_attacks = 100\n",
    ")\n",
    "results = evaluator.evaluate()\n",
    "results.print_results()"
   ]
  }
 ],
 "metadata": {
  "kernelspec": {
   "display_name": "Python 3 (ipykernel)",
   "language": "python",
   "name": "python3"
  },
  "language_info": {
   "codemirror_mode": {
    "name": "ipython",
    "version": 3
   },
   "file_extension": ".py",
   "mimetype": "text/x-python",
   "name": "python",
   "nbconvert_exporter": "python",
   "pygments_lexer": "ipython3",
   "version": "3.11.7"
  }
 },
 "nbformat": 4,
 "nbformat_minor": 5
}
